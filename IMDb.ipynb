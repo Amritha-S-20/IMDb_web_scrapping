{
  "nbformat": 4,
  "nbformat_minor": 0,
  "metadata": {
    "colab": {
      "name": "IMDb.ipynb",
      "provenance": [],
      "collapsed_sections": [],
      "include_colab_link": true
    },
    "kernelspec": {
      "name": "python3",
      "display_name": "Python 3"
    },
    "language_info": {
      "name": "python"
    }
  },
  "cells": [
    {
      "cell_type": "markdown",
      "metadata": {
        "id": "view-in-github",
        "colab_type": "text"
      },
      "source": [
        "<a href=\"https://colab.research.google.com/github/Amritha-S-20/IMDb_web_scrapping/blob/main/IMDb.ipynb\" target=\"_parent\"><img src=\"https://colab.research.google.com/assets/colab-badge.svg\" alt=\"Open In Colab\"/></a>"
      ]
    },
    {
      "cell_type": "code",
      "metadata": {
        "id": "Pj24dKhTG9i6"
      },
      "source": [
        "#IMDb Web scrapping"
      ],
      "execution_count": null,
      "outputs": []
    },
    {
      "cell_type": "code",
      "metadata": {
        "id": "IzJ6uHPvHILw"
      },
      "source": [
        "#importing all the packages\n",
        "import requests\n",
        "import time\n",
        "from bs4 import BeautifulSoup\n",
        "import pandas as pd\n",
        "from IPython.display import clear_output"
      ],
      "execution_count": null,
      "outputs": []
    },
    {
      "cell_type": "code",
      "metadata": {
        "id": "dVrhpznVH0Hf"
      },
      "source": [
        "base_url = 'https://www.imdb.com/search/title/?release_date=2021-01-01,2021-12-31&sort=num_votes,desc&start='"
      ],
      "execution_count": null,
      "outputs": []
    },
    {
      "cell_type": "code",
      "metadata": {
        "colab": {
          "base_uri": "https://localhost:8080/"
        },
        "id": "tVHsJR5zH5eM",
        "outputId": "7565e7fc-ab3b-40ab-dbf1-e10ee6a3b3fb"
      },
      "source": [
        "movie_name=[]     #Empty lists for storing the data from IMDb website\n",
        "release_year=[]\n",
        "certificate=[]\n",
        "duration=[]\n",
        "genre=[]\n",
        "star=[]\n",
        "metascore=[]\n",
        "votes=[]\n",
        "\n",
        "for i in range(1,1000,50):\n",
        "\n",
        "  print(f'Scrapping value from {i}th page')   #this is used to identify if any error occur at any particular page\n",
        "  clear_output(wait=True)\n",
        "\n",
        "  time.sleep(2)\n",
        "\n",
        "  url=base_url+str(i)+'&ref_=adv_nxt'          #identifying the pattern of the url\n",
        "  req=requests.get(url)                        #sending request\n",
        "  soup=BeautifulSoup(req.text,'html')          #creating soup object\n",
        "\n",
        "  my_container=soup.find_all('div',class_='lister-item-content')     #soup object having the details of all 50 movies\n",
        "\n",
        "  for i in my_container:\n",
        "\n",
        "    #movie name\n",
        "    if soup.find('h3',attrs={'class':'lister-item-header'}) is not None:\n",
        "      movie_name.append(i.a.text)\n",
        "    else:\n",
        "      movie_name.append('none')\n",
        "\n",
        "    #release year\n",
        "    if i.find('span',attrs={'class':'lister-item-year text-muted unbold'}) is not None:\n",
        "      header=i.find('h3',class_='lister-item-header')\n",
        "      year=header.find('span',class_='lister-item-year text-muted unbold').text.replace('(','').replace(')','')\n",
        "      release_year.append(year)\n",
        "    else:\n",
        "      release_year.append('nil')  \n",
        "\n",
        "    #certificate\n",
        "    if i.find('span',attrs={'class':'certificate'}) is not None:\n",
        "      cert=i.find('span',attrs={'class':'certificate'})\n",
        "      certificate.append(cert.text)\n",
        "    else:\n",
        "      certificate.append('not rated')\n",
        "\n",
        "    #movie duration \n",
        "    if i.find('span',attrs={'class':'runtime'}) is not None:\n",
        "      dur=i.find('span',attrs={'class':'runtime'})\n",
        "      duration.append(dur.text)\n",
        "    else:\n",
        "      duration.append('nil')\n",
        "\n",
        "    #genre\n",
        "    if i.find('span',attrs={'class':'genre'}) is not None:\n",
        "      gen=i.find('span',attrs={'class':'genre'})\n",
        "      genre.append(gen.text.strip())\n",
        "    else:\n",
        "      genre.append('nil')\n",
        "\n",
        "    #star rating\n",
        "    if i.find('div',attrs={'class':'inline-block ratings-imdb-rating'}) is not None:\n",
        "      starr=i.find('div',attrs={'class':'inline-block ratings-imdb-rating'})\n",
        "      star.append(starr.text.strip())\n",
        "    else:\n",
        "      star.append('nil')\n",
        "\n",
        "    #metascore\n",
        "    if i.find('span',attrs={'class':'metascore'}) is not None:\n",
        "      meta=i.find('span',attrs={'class':'metascore'})\n",
        "      metascore.append(meta.text)\n",
        "    else:\n",
        "      metascore.append('nil')\n",
        "\n",
        "    #votes\n",
        "    if i.find('p',attrs={'class':'sort-num_votes-visible'}) is not None:\n",
        "      vot=i.find('p',attrs={'class':'sort-num_votes-visible'})\n",
        "      votes.append(vot.text.split(':')[1].strip())\n",
        "    else:\n",
        "      votes.append('none')\n"
      ],
      "execution_count": null,
      "outputs": [
        {
          "output_type": "stream",
          "text": [
            "Scrapping value from 951th page\n"
          ],
          "name": "stdout"
        }
      ]
    },
    {
      "cell_type": "code",
      "metadata": {
        "colab": {
          "base_uri": "https://localhost:8080/"
        },
        "id": "yIWnrvNgM2ck",
        "outputId": "dea9ef78-cbe7-48c8-b353-fda90772d806"
      },
      "source": [
        "#len(movie_name),len(release_year),len(certificate),len(duration),len(genre),len(star),len(metascore),len(votes)"
      ],
      "execution_count": null,
      "outputs": [
        {
          "output_type": "execute_result",
          "data": {
            "text/plain": [
              "(1000, 1000, 1000, 1000, 1000, 1000, 1000, 1000)"
            ]
          },
          "metadata": {
            "tags": []
          },
          "execution_count": 9
        }
      ]
    },
    {
      "cell_type": "code",
      "metadata": {
        "colab": {
          "base_uri": "https://localhost:8080/",
          "height": 417
        },
        "id": "lri2c9lWNobr",
        "outputId": "2ed40822-4290-4864-9277-a64142e5d881"
      },
      "source": [
        "#converting to dataframe\n",
        "data=pd.DataFrame({'movie_name':movie_name,'release_year':release_year,'certificate':certificate,'duration':duration,'genre':genre,'star':star,'metascore':metascore,'votes':votes})\n",
        "data"
      ],
      "execution_count": null,
      "outputs": [
        {
          "output_type": "execute_result",
          "data": {
            "text/html": [
              "<div>\n",
              "<style scoped>\n",
              "    .dataframe tbody tr th:only-of-type {\n",
              "        vertical-align: middle;\n",
              "    }\n",
              "\n",
              "    .dataframe tbody tr th {\n",
              "        vertical-align: top;\n",
              "    }\n",
              "\n",
              "    .dataframe thead th {\n",
              "        text-align: right;\n",
              "    }\n",
              "</style>\n",
              "<table border=\"1\" class=\"dataframe\">\n",
              "  <thead>\n",
              "    <tr style=\"text-align: right;\">\n",
              "      <th></th>\n",
              "      <th>movie_name</th>\n",
              "      <th>release_year</th>\n",
              "      <th>certificate</th>\n",
              "      <th>duration</th>\n",
              "      <th>genre</th>\n",
              "      <th>star</th>\n",
              "      <th>metascore</th>\n",
              "      <th>votes</th>\n",
              "    </tr>\n",
              "  </thead>\n",
              "  <tbody>\n",
              "    <tr>\n",
              "      <th>0</th>\n",
              "      <td>Zack Snyder's Justice League</td>\n",
              "      <td>2021</td>\n",
              "      <td>R</td>\n",
              "      <td>242 min</td>\n",
              "      <td>Action, Adventure, Fantasy</td>\n",
              "      <td>8.1</td>\n",
              "      <td>54</td>\n",
              "      <td>305,981</td>\n",
              "    </tr>\n",
              "    <tr>\n",
              "      <th>1</th>\n",
              "      <td>Aspirants</td>\n",
              "      <td>2021–</td>\n",
              "      <td>not rated</td>\n",
              "      <td>45 min</td>\n",
              "      <td>Drama</td>\n",
              "      <td>9.0</td>\n",
              "      <td>nil</td>\n",
              "      <td>271,712</td>\n",
              "    </tr>\n",
              "    <tr>\n",
              "      <th>2</th>\n",
              "      <td>WandaVision</td>\n",
              "      <td>2021</td>\n",
              "      <td>TV-PG</td>\n",
              "      <td>350 min</td>\n",
              "      <td>Action, Comedy, Drama</td>\n",
              "      <td>8.1</td>\n",
              "      <td>nil</td>\n",
              "      <td>185,274</td>\n",
              "    </tr>\n",
              "    <tr>\n",
              "      <th>3</th>\n",
              "      <td>Radhe</td>\n",
              "      <td>2021</td>\n",
              "      <td>TV-MA</td>\n",
              "      <td>135 min</td>\n",
              "      <td>Action, Crime, Thriller</td>\n",
              "      <td>1.8</td>\n",
              "      <td>nil</td>\n",
              "      <td>163,375</td>\n",
              "    </tr>\n",
              "    <tr>\n",
              "      <th>4</th>\n",
              "      <td>Godzilla vs. Kong</td>\n",
              "      <td>2021</td>\n",
              "      <td>PG-13</td>\n",
              "      <td>113 min</td>\n",
              "      <td>Action, Sci-Fi, Thriller</td>\n",
              "      <td>6.4</td>\n",
              "      <td>59</td>\n",
              "      <td>145,364</td>\n",
              "    </tr>\n",
              "    <tr>\n",
              "      <th>...</th>\n",
              "      <td>...</td>\n",
              "      <td>...</td>\n",
              "      <td>...</td>\n",
              "      <td>...</td>\n",
              "      <td>...</td>\n",
              "      <td>...</td>\n",
              "      <td>...</td>\n",
              "      <td>...</td>\n",
              "    </tr>\n",
              "    <tr>\n",
              "      <th>995</th>\n",
              "      <td>Boruto: Naruto Next Generations</td>\n",
              "      <td>2017–</td>\n",
              "      <td>TV-14</td>\n",
              "      <td>24 min</td>\n",
              "      <td>Animation, Action, Adventure</td>\n",
              "      <td>9.4</td>\n",
              "      <td>nil</td>\n",
              "      <td>698</td>\n",
              "    </tr>\n",
              "    <tr>\n",
              "      <th>996</th>\n",
              "      <td>Night Stalker: The Hunt for a Serial Killer</td>\n",
              "      <td>2021</td>\n",
              "      <td>TV-MA</td>\n",
              "      <td>46 min</td>\n",
              "      <td>Documentary, Crime, Mystery</td>\n",
              "      <td>7.7</td>\n",
              "      <td>nil</td>\n",
              "      <td>697</td>\n",
              "    </tr>\n",
              "    <tr>\n",
              "      <th>997</th>\n",
              "      <td>Viewpoint</td>\n",
              "      <td>2021–</td>\n",
              "      <td>not rated</td>\n",
              "      <td>60 min</td>\n",
              "      <td>Drama, Thriller</td>\n",
              "      <td>5.9</td>\n",
              "      <td>nil</td>\n",
              "      <td>697</td>\n",
              "    </tr>\n",
              "    <tr>\n",
              "      <th>998</th>\n",
              "      <td>Lupin</td>\n",
              "      <td>2021–</td>\n",
              "      <td>TV-MA</td>\n",
              "      <td>47 min</td>\n",
              "      <td>Action, Crime, Drama</td>\n",
              "      <td>7.9</td>\n",
              "      <td>nil</td>\n",
              "      <td>696</td>\n",
              "    </tr>\n",
              "    <tr>\n",
              "      <th>999</th>\n",
              "      <td>Snowpiercer</td>\n",
              "      <td>2020–</td>\n",
              "      <td>TV-MA</td>\n",
              "      <td>47 min</td>\n",
              "      <td>Action, Drama, Sci-Fi</td>\n",
              "      <td>7.3</td>\n",
              "      <td>nil</td>\n",
              "      <td>696</td>\n",
              "    </tr>\n",
              "  </tbody>\n",
              "</table>\n",
              "<p>1000 rows × 8 columns</p>\n",
              "</div>"
            ],
            "text/plain": [
              "                                       movie_name  ...    votes\n",
              "0                    Zack Snyder's Justice League  ...  305,981\n",
              "1                                       Aspirants  ...  271,712\n",
              "2                                     WandaVision  ...  185,274\n",
              "3                                           Radhe  ...  163,375\n",
              "4                               Godzilla vs. Kong  ...  145,364\n",
              "..                                            ...  ...      ...\n",
              "995               Boruto: Naruto Next Generations  ...      698\n",
              "996   Night Stalker: The Hunt for a Serial Killer  ...      697\n",
              "997                                     Viewpoint  ...      697\n",
              "998                                         Lupin  ...      696\n",
              "999                                   Snowpiercer  ...      696\n",
              "\n",
              "[1000 rows x 8 columns]"
            ]
          },
          "metadata": {
            "tags": []
          },
          "execution_count": 10
        }
      ]
    },
    {
      "cell_type": "code",
      "metadata": {
        "id": "_cyb5tEsZ5Cv"
      },
      "source": [
        "#converting dataframe to csv file\n",
        "data.to_csv('IMDb_data.csv',index=False)"
      ],
      "execution_count": null,
      "outputs": []
    }
  ]
}